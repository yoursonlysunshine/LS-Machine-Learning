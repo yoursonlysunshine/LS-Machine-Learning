{
 "cells": [
  {
   "cell_type": "code",
   "execution_count": 1,
   "metadata": {
    "id": "-zTLHrFCT6KY"
   },
   "outputs": [],
   "source": [
    "import numpy as np\n",
    "import pandas as pd\n",
    "import matplotlib.pyplot as plt\n",
    "\n",
    "# Aim is to predict the marks of students of the test data"
   ]
  },
  {
   "cell_type": "code",
   "execution_count": 2,
   "metadata": {
    "colab": {
     "base_uri": "https://localhost:8080/",
     "height": 356
    },
    "id": "p0KHq8ZgTpU4",
    "outputId": "13a52f86-3f42-4d58-ee4d-e2efa2b50dfe"
   },
   "outputs": [],
   "source": [
    "# Use the file namd 'training data' to train the model\n",
    "\n",
    "data = pd.read_excel(r\"C:\\Users\\asus\\Downloads\\Training_data.xlsx\")\n",
    "\n",
    "x_train = np.array(data.iloc[:,0:8])\n",
    "y_train = np.array(data.iloc[:,8]).reshape(-1,1)\n",
    "\n",
    "# Try plotting y_train with different features\n",
    "#plt.scatter(x_train[:,7],y_train)\n",
    "#plt.show()\n",
    "\n",
    "# To get an idea whether to add some features or not\n",
    "# Add some features if required in x_train\n",
    "\n",
    "# Also do label encoding for features not represented in numbers\n",
    "# refer the link if not know : https://youtu.be/589nCGeWG1w?si=t2Wa7LgbUOO4RooM\n",
    "\n",
    "def feature_changing(x_train):\n",
    "    x_train = np.delete(x_train, [1,6], axis=1)\n",
    "    x_train[np.where(x_train[:,]=='no')] = 1\n",
    "    x_train[np.where(x_train[:,]=='yes')] =0\n",
    "    x_train[np.where(x_train[:,]=='M')] = 1\n",
    "    x_train[np.where(x_train[:,]=='F')] =0'''\n",
    "    return x_train\n",
    "\n",
    "x_train = feature_changing(x_train)"
   ]
  },
  {
   "cell_type": "code",
   "execution_count": 3,
   "metadata": {
    "id": "tYshvtYlVour"
   },
   "outputs": [],
   "source": [
    "def z_score(x_train):\n",
    "\n",
    "    x_mean = np.mean(x_train,axis=0)\n",
    "    x_std = np.std(x_train,axis=0)\n",
    "    #x_std[x_std == 0] = 1\n",
    "    x_train = (x_train - x_mean) / x_std\n",
    "\n",
    "    return x_train,x_std,x_mean"
   ]
  },
  {
   "cell_type": "code",
   "execution_count": 4,
   "metadata": {
    "id": "O5dOwbNbWJWa"
   },
   "outputs": [],
   "source": [
    "def cost(x_train,y_train,w,b):\n",
    "\n",
    "    m = len(y_train)\n",
    "    \n",
    "    y_pred = np.dot(x_train , w) + b\n",
    "    \n",
    "    loss = np.sum((y_pred - y_train) ** 2) / (2 * m)\n",
    "\n",
    "    return loss"
   ]
  },
  {
   "cell_type": "code",
   "execution_count": 5,
   "metadata": {
    "id": "hW8p2cTNU74W"
   },
   "outputs": [],
   "source": [
    "def gradient_descent(x_train,y_train,w,b):\n",
    "\n",
    "    m = len(y_train)\n",
    "    \n",
    "    for i in range(10000):\n",
    "        y_pred = np.dot(x_train, w) + b\n",
    "\n",
    "        dw = (1 / m) * np.dot(x_train.T, (y_pred - y_train))\n",
    "        db = (1 / m) * np.sum(y_pred - y_train)\n",
    "        \n",
    "        w = w - 0.01 * dw\n",
    "        b = b - 0.01 * db\n",
    "    \n",
    "    return w, b"
   ]
  },
  {
   "cell_type": "code",
   "execution_count": 6,
   "metadata": {
    "id": "Kl-fioJ5WkYn"
   },
   "outputs": [
    {
     "name": "stdout",
     "output_type": "stream",
     "text": [
      "Congratulations, your accuracy is 100.0%\n"
     ]
    }
   ],
   "source": [
    "x_train = x_train.astype(np.float64)\n",
    "x_train,x_std,x_mean = z_score(x_train)\n",
    "\n",
    "np.random.seed(78946)\n",
    "w = np.random.randn(x_train.shape[1],1)\n",
    "b = 0\n",
    "\n",
    "old_cost = 0\n",
    "\n",
    "while abs(old_cost - cost(x_train,y_train,w,b))>0.00001:\n",
    "    old_cost = cost(x_train,y_train,w,b)\n",
    "    w,b = gradient_descent(x_train,y_train,w,b)\n",
    "\n",
    "x_predict = pd.read_excel(r\"C:\\Users\\asus\\Downloads\\Test data.xlsx\").iloc[:,:8].to_numpy()\n",
    "x_predict = feature_changing(x_predict)\n",
    "x_predict = (x_predict - x_mean)/x_std\n",
    "ans = pd.read_excel(r\"C:\\Users\\asus\\Downloads\\Test data.xlsx\").iloc[:,8].to_numpy()\n",
    "\n",
    "y_predict = np.dot(x_predict,w) + b\n",
    "\n",
    "accuracy = 0\n",
    "for dim in range(len(ans)):\n",
    "    if abs(y_predict[dim]-ans[dim])<0.5: # do not change the tolerance as you'll be checked on +- 0.5 error only\n",
    "        accuracy += 1\n",
    "accuracy = round(accuracy*100/200.0,2)\n",
    "ok = 'Congratulations' if accuracy>95 else 'Optimization required'\n",
    "print(f\"{ok}, your accuracy is {accuracy}%\")"
   ]
  }
 ],
 "metadata": {
  "colab": {
   "provenance": []
  },
  "kernelspec": {
   "display_name": "Python 3 (ipykernel)",
   "language": "python",
   "name": "python3"
  },
  "language_info": {
   "codemirror_mode": {
    "name": "ipython",
    "version": 3
   },
   "file_extension": ".py",
   "mimetype": "text/x-python",
   "name": "python",
   "nbconvert_exporter": "python",
   "pygments_lexer": "ipython3",
   "version": "3.11.5"
  }
 },
 "nbformat": 4,
 "nbformat_minor": 1
}
